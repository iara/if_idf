{
 "cells": [
  {
   "cell_type": "code",
   "execution_count": 8,
   "metadata": {},
   "outputs": [],
   "source": [
    "from operator import add\n",
    "import os\n",
    "import math\n",
    "\n",
    "\n",
    "def word_freq(file_name):\n",
    "    data = sc.textFile(file_name)\n",
    "    data_freq = data.flatMap(lambda x : x.split(' ')) \\\n",
    "          .map(lambda x: x.lower()) \\\n",
    "          .filter(lambda x: x not in [',', '.', '/', '!', '?', '-'] and x!='' ) \\\n",
    "          .map(lambda x: (x,1)) \\\n",
    "          .reduceByKey(add)\n",
    "    return data_freq\n",
    "\n",
    "def idf(folder):\n",
    "    files = os.listdir(folder)\n",
    "    files_data = []\n",
    "    for i in files:\n",
    "        try:\n",
    "            file_name = os.path.join(folder, i)\n",
    "            data = sc.textFile(file_name)\n",
    "            data_file = data.flatMap(lambda x: x.split(' '))\\\n",
    "                            .map(lambda x: x.lower())\\\n",
    "                            .map(lambda x: (x, 1))\\\n",
    "                            .reduceByKey(add)\\\n",
    "                            .map(lambda x: (x[0], 1))\n",
    "            files_data.append(data_file)\n",
    "        except Exception as ex :\n",
    "            print(i)\n",
    "            print(ex)\n",
    "        \n",
    "    union_data = sc.union(files_data)\n",
    "    doc_data = union_data.reduceByKey(add).map(lambda x: (x[0], math.log10(len(files)/x[1])))\n",
    "    \n",
    "    return doc_data\n",
    "\n",
    "\n",
    "def tf(file_name):\n",
    "    data = sc.textFile(file_name)\n",
    "    total_word = data.flatMap(lambda x : x.split(' ')) \\\n",
    "          .map(lambda x: x.lower()) \\\n",
    "          .filter(lambda x: x not in [',', '.', '/', '!', '?', '-'] and x!='' ) \\\n",
    "          .map(lambda x: 1).reduce(add)\n",
    "    tf_data = word_freq(file_name).map(lambda x: (x[0], x[1]/total_word))\n",
    "    return tf_data\n",
    "    \n",
    "\n",
    "def main(folder):\n",
    "    idf_values = idf(folder)\n",
    "    files = os.listdir(folder)\n",
    "    data = []\n",
    "    for i in files:\n",
    "        try:\n",
    "            file_name = os.path.join(folder, i)\n",
    "            tf_data = tf(file_name)\n",
    "            data_file = tf_data.join(idf_values)\\\n",
    "                                .map(lambda x: (x[0], i, x[1][0]*x[1][1]))\n",
    "            data.append(data_file)\n",
    "        except Exception as ex:\n",
    "            print(i)\n",
    "            print(ex)\n",
    "    tfidf = sc.union(data)\n",
    "    return tfidf\n",
    "        "
   ]
  },
  {
   "cell_type": "code",
   "execution_count": 19,
   "metadata": {
    "collapsed": true
   },
   "outputs": [],
   "source": [
    "b = tf('/home/prates/nltk_data/corpora/mac_morpho/ag94ag02.txt')"
   ]
  },
  {
   "cell_type": "code",
   "execution_count": 59,
   "metadata": {
    "collapsed": true
   },
   "outputs": [],
   "source": [
    "\n",
    "data = idf('/home/prates/nltk_data/corpora/mac_morpho/')"
   ]
  },
  {
   "cell_type": "code",
   "execution_count": 9,
   "metadata": {},
   "outputs": [],
   "source": [
    "data = main('/home/prates/teste_tf-idf/')"
   ]
  },
  {
   "cell_type": "code",
   "execution_count": 10,
   "metadata": {},
   "outputs": [
    {
     "data": {
      "text/plain": [
       "[('cidade_n', 'ag94ab12.txt', 0.0),\n",
       " ('caf�_n', 'ag94ab12.txt', 0.0),\n",
       " ('oscilou_v', 'ag94ab12.txt', 5.437680557514111e-05),\n",
       " ('participa_v', 'ag94ab12.txt', 5.437680557514111e-05),\n",
       " ('chuvas_n', 'ag94ab12.txt', 0.0),\n",
       " ('oferta_n', 'ag94ab12.txt', 0.0),\n",
       " ('�ltimas_adj', 'ag94ab12.txt', 0.0),\n",
       " ('pre�os_n', 'ag94ab12.txt', 0.0),\n",
       " ('13,6_num', 'ag94ab12.txt', 5.437680557514111e-05),\n",
       " ('que_ks', 'ag94ab12.txt', 0.0),\n",
       " ('a_prep', 'ag94ab12.txt', 0.0),\n",
       " ('estados_n', 'ag94ab12.txt', 0.0),\n",
       " ('trabalhando_v', 'ag94ab12.txt', 5.437680557514111e-05),\n",
       " ('toledo_nprop', 'ag94ab12.txt', 0.00010875361115028222),\n",
       " ('nacional_adj', 'ag94ab12.txt', 0.0),\n",
       " ('ano_n', 'ag94ab12.txt', 0.0),\n",
       " ('segundo_prep', 'ag94ab12.txt', 0.0),\n",
       " ('assessoria_nprop', 'ag94ab12.txt', 5.437680557514111e-05),\n",
       " ('meados_n', 'ag94ab12.txt', 5.437680557514111e-05),\n",
       " ('alguns_proadj', 'ag94ab12.txt', 0.0),\n",
       " ('v�o_vaux', 'ag94ab12.txt', 0.0),\n",
       " ('10_num', 'ag94ab12.txt', 0.0),\n",
       " ('excelente_adj', 'ag94ab12.txt', 5.437680557514111e-05),\n",
       " ('possibilidade_n', 'ag94ab12.txt', 5.437680557514111e-05),\n",
       " ('disparada_n', 'ag94ab12.txt', 5.437680557514111e-05),\n",
       " ('n�o_adv', 'ag94ab12.txt', 0.0),\n",
       " ('subir_v', 'ag94ab12.txt', 0.00021750722230056443),\n",
       " ('alta_n', 'ag94ab12.txt', 0.0001631304167254233),\n",
       " ('caso_ks', 'ag94ab12.txt', 5.437680557514111e-05),\n",
       " ('interessante_adj', 'ag94ab12.txt', 5.437680557514111e-05),\n",
       " ('setor_n', 'ag94ab12.txt', 0.0),\n",
       " ('impostos_n', 'ag94ab12.txt', 5.437680557514111e-05),\n",
       " ('sucesso_n', 'ag94ab12.txt', 0.0),\n",
       " ('regime_n', 'ag94ab12.txt', 5.437680557514111e-05),\n",
       " ('1,5_num', 'ag94ab12.txt', 5.437680557514111e-05),\n",
       " ('entre_prep', 'ag94ab12.txt', 0.0),\n",
       " ('agosto_n', 'ag94ab12.txt', 0.0005437680557514111),\n",
       " ('m�dia_n', 'ag94ab12.txt', 0.0),\n",
       " ('estima_v', 'ag94ab12.txt', 0.0),\n",
       " ('pa�s_n', 'ag94ab12.txt', 0.0),\n",
       " ('proje��es_n', 'ag94ab12.txt', 0.0001631304167254233),\n",
       " ('mostram_v', 'ag94ab12.txt', 5.437680557514111e-05),\n",
       " ('perpectivas_n', 'ag94ab12.txt', 5.437680557514111e-05),\n",
       " ('nehmi_nprop', 'ag94ab12.txt', 5.437680557514111e-05),\n",
       " ('pascal_nprop', 'ag94ab12.txt', 5.437680557514111e-05),\n",
       " ('estas_proadj', 'ag94ab12.txt', 5.437680557514111e-05),\n",
       " ('ele_propess', 'ag94ab12.txt', 0.0),\n",
       " ('cfm_nprop', 'ag94ab12.txt', 0.0001631304167254233),\n",
       " ('dez_num', 'ag94ab12.txt', 0.0),\n",
       " ('rio_nprop', 'ag94ab12.txt', 0.0),\n",
       " ('3.200_num', 'ag94ab12.txt', 5.437680557514111e-05),\n",
       " ('cabe�a_n', 'ag94ab12.txt', 5.437680557514111e-05),\n",
       " ('sobre_prep', 'ag94ab12.txt', 0.0),\n",
       " ('adequado_pcp', 'ag94ab12.txt', 0.0),\n",
       " ('estiver_v', 'ag94ab12.txt', 0.0),\n",
       " ('inviabilizado_pcp', 'ag94ab12.txt', 5.437680557514111e-05),\n",
       " ('confinamentos_n', 'ag94ab12.txt', 5.437680557514111e-05),\n",
       " ('23_num', 'ag94ab12.txt', 0.00010875361115028222),\n",
       " ('ocasionou_v', 'ag94ab12.txt', 5.437680557514111e-05),\n",
       " ('h�drica_adj', 'ag94ab12.txt', 0.0),\n",
       " ('culturas_n', 'ag94ab12.txt', 0.0),\n",
       " ('sequeiro_n', 'ag94ab12.txt', 0.0),\n",
       " ('condi��es_n', 'ag94ab12.txt', 0.0),\n",
       " ('h�dricas_adj', 'ag94ab12.txt', 5.437680557514111e-05),\n",
       " ('plena_adj', 'ag94ab12.txt', 0.0),\n",
       " ('ap�s_prep', 'ag94ab12.txt', 0.0),\n",
       " ('prazos_n', 'ag94ab12.txt', 0.00010875361115028222),\n",
       " ('m�rcio_nprop', 'ag94ab12.txt', 0.0),\n",
       " ('sastre_nprop', 'ag94ab12.txt', 0.00021750722230056443),\n",
       " ('gj_nprop', 'ag94ab12.txt', 0.00010875361115028222),\n",
       " ('consequ�ncia_n', 'ag94ab12.txt', 0.0),\n",
       " ('processo_n', 'ag94ab12.txt', 0.0),\n",
       " ('vem_vaux', 'ag94ab12.txt', 0.0),\n",
       " ('oeste_adj', 'ag94ab12.txt', 0.0),\n",
       " ('estuda_v', 'ag94ab12.txt', 5.437680557514111e-05),\n",
       " ('fornecedores_n', 'ag94ab12.txt', 5.437680557514111e-05),\n",
       " ('oito_n', 'ag94ab12.txt', 0.0),\n",
       " ('pagamentos_n', 'ag94ab12.txt', 5.437680557514111e-05),\n",
       " ('ch�o_nprop', 'ag94ab12.txt', 0.00021750722230056443),\n",
       " ('novos_adj', 'ag94ab12.txt', 0.0),\n",
       " ('movimento_n', 'ag94ab12.txt', 0.0),\n",
       " ('virada_n', 'ag94ab12.txt', 5.437680557514111e-05),\n",
       " ('moeda_n', 'ag94ab12.txt', 5.437680557514111e-05),\n",
       " ('s�cio_n', 'ag94ab12.txt', 0.00021750722230056443),\n",
       " ('12_num', 'ag94ab12.txt', 0.0),\n",
       " ('convers�o_n', 'ag94ab12.txt', 5.437680557514111e-05),\n",
       " ('ao_prep', 'ag94ab12.txt', 0.0001631304167254233),\n",
       " ('econ�mico_adj', 'ag94ab12.txt', 0.0),\n",
       " ('jorge_nprop', 'ag94ab12.txt', 0.0),\n",
       " ('vento_nprop', 'ag94ab12.txt', 0.00010875361115028222),\n",
       " ('passou_v', 'ag94ab12.txt', 0.0),\n",
       " (':_:', 'ag94ab12.txt', 0.0),\n",
       " ('aumentos_n', 'ag94ab12.txt', 5.437680557514111e-05),\n",
       " ('afirmar_v', 'ag94ab12.txt', 5.437680557514111e-05),\n",
       " ('cl�vis_nprop', 'ag94ab12.txt', 0.00010875361115028222),\n",
       " ('cresce_v', 'ag94ab12.txt', 0.0),\n",
       " ('copa_nprop', 'ag94ab12.txt', 5.437680557514111e-05),\n",
       " ('mundo_nprop', 'ag94ab12.txt', 5.437680557514111e-05),\n",
       " ('auxiliou_v', 'ag94ab12.txt', 5.437680557514111e-05),\n",
       " ('pobres_adj', 'ag94ab12.txt', 0.0)]"
      ]
     },
     "execution_count": 10,
     "metadata": {},
     "output_type": "execute_result"
    }
   ],
   "source": [
    "data.take(100)\n"
   ]
  },
  {
   "cell_type": "code",
   "execution_count": 105,
   "metadata": {
    "collapsed": true
   },
   "outputs": [],
   "source": [
    "c = sc.union([r1,r2])"
   ]
  },
  {
   "cell_type": "code",
   "execution_count": 106,
   "metadata": {},
   "outputs": [
    {
     "name": "stdout",
     "output_type": "stream",
     "text": [
      "[1, 2, 3, 4, 1, 2, 3, 4]\n"
     ]
    }
   ],
   "source": [
    "print(c.collect())"
   ]
  },
  {
   "cell_type": "code",
   "execution_count": null,
   "metadata": {
    "collapsed": true
   },
   "outputs": [],
   "source": []
  }
 ],
 "metadata": {
  "kernelspec": {
   "display_name": "Python 3",
   "language": "python",
   "name": "python3"
  }
 },
 "nbformat": 4,
 "nbformat_minor": 2
}
